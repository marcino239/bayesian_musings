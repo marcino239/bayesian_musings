{
 "cells": [
  {
   "cell_type": "code",
   "execution_count": 1,
   "metadata": {},
   "outputs": [],
   "source": [
    "import matplotlib.pyplot as plt\n",
    "import numpy as np\n",
    "\n",
    "%matplotlib inline"
   ]
  },
  {
   "cell_type": "markdown",
   "metadata": {},
   "source": [
    "Imagine for a moment a weather forecaster says that her accuracy is aproximately 75%.  Is this an absolute probability?  Rather not:  the forecaster will use available data and then will make her forecast.  The data on the other hand is subject to measuring incertanity and additionally the model might not be the right one.  \n",
    "The better expression is then to say that forecaster is aproximately correct in 75% cases when using her model and acquired data.  This sounds like a conditional probability:\n",
    "\n",
    "$P( \\text{ Forecast | Data } ) = 0.75$\n",
    "\n",
    "What would be a probability of rainy day then?  Our initial intuition says that rainy day is ony 10% probable.  Let's use total probability formula then:\n",
    "\n",
    "$P( \\text{Rainy | Forecast} ) = \\frac{P( \\text{ Forecast | Data })P( \\text{ Rainy } )}{P( \\text{ Forecast | Data } )P( \\text{ Rainy }) + P( \\text{ Incorrect Forcast | Data })P( \\text{ Sunny } ) }$\n"
   ]
  },
  {
   "cell_type": "code",
   "execution_count": 20,
   "metadata": {},
   "outputs": [],
   "source": [
    "def p_rainy_forecast( p_forecast_data, p_incorrectforecast_data, p_rainy ):\n",
    "    p = p_forecast_data * p_rainy / ( p_forecast_data * p_rainy + (1.0-p_rainy) * p_incorrectforecast_data )\n",
    "    return p"
   ]
  },
  {
   "cell_type": "markdown",
   "metadata": {},
   "source": [
    "Plugging the numbers, we get the following chance of rainy as predicted by the forecster:"
   ]
  },
  {
   "cell_type": "code",
   "execution_count": 21,
   "metadata": {},
   "outputs": [
    {
     "data": {
      "text/plain": [
       "0.25"
      ]
     },
     "execution_count": 21,
     "metadata": {},
     "output_type": "execute_result"
    }
   ],
   "source": [
    "p_rainy_forecast( 0.75, 0.25, 0.10 )"
   ]
  },
  {
   "cell_type": "markdown",
   "metadata": {},
   "source": [
    "This sounds kind of low.  Only 25% chance of predicting a forecast. Let's take a look how the accuracy will change as a function of forecast performance:"
   ]
  },
  {
   "cell_type": "code",
   "execution_count": 22,
   "metadata": {},
   "outputs": [
    {
     "data": {
      "text/plain": [
       "<matplotlib.text.Text at 0x7fa6ad471a50>"
      ]
     },
     "execution_count": 22,
     "metadata": {},
     "output_type": "execute_result"
    },
    {
     "data": {
      "image/png": "[encoded data removed]",
      "text/plain": [
       "<matplotlib.figure.Figure at 0x7fa6ad3d1fd0>"
      ]
     },
     "metadata": {},
     "output_type": "display_data"
    }
   ],
   "source": [
    "p_forecast_data = np.arange( 0.0, 1.0, 0.01 )\n",
    "\n",
    "fp_rainy_forecast = np.vectorize( lambda x: p_rainy_forecast( x, 1.0 - x, 0.1 ) )\n",
    "p_rainy_forecast_ = fphd( p_forecast_data )\n",
    "\n",
    "plt.plot( p_forecast_data, p_rainy_forecast_ )\n",
    "plt.xlabel( 'p_forecast_data' )\n",
    "plt.ylabel( 'p_rainy_forecast' )"
   ]
  },
  {
   "cell_type": "markdown",
   "metadata": {},
   "source": [
    "At 90% forecast accuracy we get 50% chance of rain, and at 99% the chance of forecasted rain becomes 91.6%.  \n",
    "The warrants a conclusion that it's best to use very accurate forecasting models.  Right, one may say, this is a common sense knowledge.  Correct, but what's shocking is that at 75% accuracy the chance of forecasted rain is only 25%."
   ]
  }
 ],
 "metadata": {
  "kernelspec": {
   "display_name": "Python 2",
   "language": "python",
   "name": "python2"
  },
  "language_info": {
   "codemirror_mode": {
    "name": "ipython",
    "version": 2
   },
   "file_extension": ".py",
   "mimetype": "text/x-python",
   "name": "python",
   "nbconvert_exporter": "python",
   "pygments_lexer": "ipython2",
   "version": "2.7.13"
  }
 },
 "nbformat": 4,
 "nbformat_minor": 2
}
