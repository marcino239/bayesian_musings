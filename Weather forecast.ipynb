{
 "cells": [
  {
   "cell_type": "code",
   "execution_count": 1,
   "metadata": {},
   "outputs": [],
   "source": [
    "import matplotlib.pyplot as plt\n",
    "import numpy as np\n",
    "\n",
    "%matplotlib inline"
   ]
  },
  {
   "cell_type": "markdown",
   "metadata": {},
   "source": [
    "Imagine for a moment a weather forecaster says that her accuracy to predict the rain is aproximately 75%.  Is this an absolute probability?  Rather not:  the forecaster will use available data and then will make her forecast.  The data on the other hand is subject to measuring incertanity and additionally the model might not be the right one.  \n",
    "The better expression is then to say that forecaster is aproximately correct in 75% cases when using her model and acquired data.  This sounds like a conditional probability:\n",
    "\n",
    "$P( \\text{ Rain Forecast | Rain Data } ) = 0.75$\n",
    "\n",
    "On the other hand the forcaster claims her model is 99% specific, which means 1% of making an error if the data points to a sunny day:\n",
    "\n",
    "$P( \\text{ Rain Forecast | Sunny Data } ) = 0.01$\n",
    "\n",
    "What would be a probability of rainy day then?  Let's say that initial estimates show that rainy day is ony 10% probable.  Let's use total probability formula then:\n",
    "\n",
    "$P( \\text{Rainy | Rain Forecast} ) = \\frac{P( \\text{ Rain Forecast | Rain Data })P( \\text{ Rain } )}{P( \\text{ Rain Forecast | Rain Data } )P( \\text{ Rain }) + P( \\text{ Rain Forcast | Sunny Data })P( \\text{ Sunny } ) }$\n"
   ]
  },
  {
   "cell_type": "code",
   "execution_count": 2,
   "metadata": {},
   "outputs": [],
   "source": [
    "def p_rainy_forecast( p_forecast_data, p_incorrectforecast_data, p_rainy ):\n",
    "    p = p_forecast_data * p_rainy / ( p_forecast_data * p_rainy + (1.0-p_rainy) * p_incorrectforecast_data )\n",
    "    return p"
   ]
  },
  {
   "cell_type": "markdown",
   "metadata": {},
   "source": [
    "Plugging the numbers, we get the following chance of rainy as predicted by the forecster:"
   ]
  },
  {
   "cell_type": "code",
   "execution_count": 3,
   "metadata": {},
   "outputs": [
    {
     "data": {
      "text/plain": [
       "0.45454545454545453"
      ]
     },
     "execution_count": 3,
     "metadata": {},
     "output_type": "execute_result"
    }
   ],
   "source": [
    "p_rainy_forecast( 0.75, 0.10, 0.10 )"
   ]
  },
  {
   "cell_type": "markdown",
   "metadata": {},
   "source": [
    "This sounds kind of low.  Only 45% chance of an accurate forecast of rain. Let's take a look how the accuracy will change as a function of forecast performance:"
   ]
  },
  {
   "cell_type": "code",
   "execution_count": 4,
   "metadata": {},
   "outputs": [
    {
     "data": {
      "text/plain": [
       "<matplotlib.text.Text at 0x7efdb924b890>"
      ]
     },
     "execution_count": 4,
     "metadata": {},
     "output_type": "execute_result"
    },
    {
     "data": {
      "image/png": "[encoded data removed]",
      "text/plain": [
       "<matplotlib.figure.Figure at 0x7efdb9514fd0>"
      ]
     },
     "metadata": {},
     "output_type": "display_data"
    }
   ],
   "source": [
    "p_forecast_data = np.arange( 0.0, 1.0, 0.01 )\n",
    "\n",
    "fp_rainy_forecast = np.vectorize( lambda x: p_rainy_forecast( x, 0.10, 0.1 ) )\n",
    "p_rainy_forecast_ = fp_rainy_forecast( p_forecast_data )\n",
    "\n",
    "plt.plot( p_forecast_data, p_rainy_forecast_ )\n",
    "plt.xlabel( 'p rain | rain forecast' )\n",
    "plt.ylabel( 'p rainy forecast | rain data' )"
   ]
  },
  {
   "cell_type": "markdown",
   "metadata": {},
   "source": [
    "Even if forecaster sensitivity approaches 100%, the accuracy of the test is not improving significantly.  Let's take a look then at the specificy of the forecast"
   ]
  },
  {
   "cell_type": "code",
   "execution_count": 5,
   "metadata": {},
   "outputs": [
    {
     "data": {
      "text/plain": [
       "<matplotlib.text.Text at 0x7efdb9149350>"
      ]
     },
     "execution_count": 5,
     "metadata": {},
     "output_type": "execute_result"
    },
    {
     "data": {
      "image/png": "[encoded data removed]",
      "text/plain": [
       "<matplotlib.figure.Figure at 0x7efdb9226f90>"
      ]
     },
     "metadata": {},
     "output_type": "display_data"
    }
   ],
   "source": [
    "p_forecast_data = np.arange( 0.0, 1.0, 0.01 )\n",
    "\n",
    "fp_rainy_forecast = np.vectorize( lambda x: p_rainy_forecast( 0.75, x, 0.1 ) )\n",
    "p_rainy_forecast_ = fp_rainy_forecast( p_forecast_data )\n",
    "\n",
    "plt.plot( p_forecast_data, p_rainy_forecast_ )\n",
    "plt.xlabel( 'p rain | rain forecast' )\n",
    "plt.ylabel( 'p rainy forecast | sunny data' )"
   ]
  },
  {
   "cell_type": "markdown",
   "metadata": {},
   "source": [
    "If the sensitivity (probability of true negative) of the test improves, it then dramatically improves the accuracy of the test.  Sounds like our forecaster needs to reduce the number of errors the forecast makes. "
   ]
  },
  {
   "cell_type": "code",
   "execution_count": null,
   "metadata": {},
   "outputs": [],
   "source": []
  }
 ],
 "metadata": {
  "kernelspec": {
   "display_name": "Python 2",
   "language": "python",
   "name": "python2"
  },
  "language_info": {
   "codemirror_mode": {
    "name": "ipython",
    "version": 2
   },
   "file_extension": ".py",
   "mimetype": "text/x-python",
   "name": "python",
   "nbconvert_exporter": "python",
   "pygments_lexer": "ipython2",
   "version": "2.7.13"
  }
 },
 "nbformat": 4,
 "nbformat_minor": 2
}
